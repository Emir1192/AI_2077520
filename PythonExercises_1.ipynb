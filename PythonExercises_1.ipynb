{
  "nbformat": 4,
  "nbformat_minor": 0,
  "metadata": {
    "colab": {
      "provenance": [],
      "authorship_tag": "ABX9TyO7X/PVi0lbNtY7pAmpfMLR",
      "include_colab_link": true
    },
    "kernelspec": {
      "name": "python3",
      "display_name": "Python 3"
    },
    "language_info": {
      "name": "python"
    }
  },
  "cells": [
    {
      "cell_type": "markdown",
      "metadata": {
        "id": "view-in-github",
        "colab_type": "text"
      },
      "source": [
        "<a href=\"https://colab.research.google.com/github/Emir1192/AI_2077520/blob/main/PythonExercises_1.ipynb\" target=\"_parent\"><img src=\"https://colab.research.google.com/assets/colab-badge.svg\" alt=\"Open In Colab\"/></a>"
      ]
    },
    {
      "cell_type": "markdown",
      "source": [
        "Text Analysis Tool"
      ],
      "metadata": {
        "id": "MAHxIhY-M2lC"
      }
    },
    {
      "cell_type": "code",
      "source": [
        "import nltk\n",
        "from nltk import sent_tokenize, word_tokenize, FreqDist\n",
        "from nltk.corpus import stopwords\n",
        "from collections import Counter\n",
        "import string\n",
        "\n",
        "nltk.download('punkt')\n",
        "nltk.download('stopwords')\n",
        "\n",
        "# Read the text file\n",
        "with open('your_text_file.txt', 'r') as file:\n",
        "    text = file.read()\n",
        "\n",
        "# Tokenize the text\n",
        "sentences = sent_tokenize(text)\n",
        "words = word_tokenize(text)\n",
        "\n",
        "# Count words, sentences, and paragraphs\n",
        "num_words = len(words)\n",
        "num_sentences = len(sentences)\n",
        "paragraphs = text.split('\\n\\n')\n",
        "num_paragraphs = len(paragraphs)\n",
        "\n",
        "# Calculate average word length\n",
        "word_lengths = [len(word) for word in words]\n",
        "avg_word_length = sum(word_lengths) / num_words\n",
        "\n",
        "# Remove stopwords and punctuation for frequency analysis\n",
        "stop_words = set(stopwords.words('english'))\n",
        "filtered_words = [word.lower() for word in words if word.lower() not in stop_words and word not in string.punctuation]\n",
        "\n",
        "# Identify most common words and their frequencies\n",
        "word_freq = Counter(filtered_words)\n",
        "most_common_words = word_freq.most_common(10)\n",
        "\n",
        "print(f\"Number of words: {num_words}\")\n",
        "print(f\"Number of sentences: {num_sentences}\")\n",
        "print(f\"Number of paragraphs: {num_paragraphs}\")\n",
        "print(f\"Average word length: {avg_word_length:.2f}\")\n",
        "print(\"\\nMost common words:\")\n",
        "for word, freq in most_common_words:\n",
        "    print(f\"{word}: {freq}\")"
      ],
      "metadata": {
        "id": "2ig7Rlx4NCpj"
      },
      "execution_count": null,
      "outputs": []
    },
    {
      "cell_type": "markdown",
      "source": [
        "Hangman Game"
      ],
      "metadata": {
        "id": "EORWBHM2M7re"
      }
    },
    {
      "cell_type": "code",
      "source": [
        "import random\n",
        "\n",
        "def hangman():\n",
        "    word_list = [\"python\", \"hangman\", \"programming\", \"computer\", \"algorithm\"]\n",
        "    word = random.choice(word_list)\n",
        "    guessed_letters = []\n",
        "    attempts = 6\n",
        "\n",
        "    while True:\n",
        "        display_word = \"\"\n",
        "        for letter in word:\n",
        "            if letter in guessed_letters:\n",
        "                display_word += letter\n",
        "            else:\n",
        "                display_word += \"_\"\n",
        "\n",
        "        print(display_word)\n",
        "        print(f\"Guessed letters: {', '.join(guessed_letters)}\")\n",
        "        print(f\"Attempts left: {attempts}\")\n",
        "\n",
        "        if display_word == word:\n",
        "            print(\"Congratulations! You guessed the word.\")\n",
        "            break\n",
        "        elif attempts == 0:\n",
        "            print(\"You ran out of attempts. The word was:\", word)\n",
        "            break\n",
        "\n",
        "        guess = input(\"Guess a letter: \").lower()\n",
        "\n",
        "        if len(guess) != 1 or not guess.isalpha():\n",
        "            print(\"Please enter a valid single letter.\")\n",
        "            continue\n",
        "\n",
        "        if guess in guessed_letters:\n",
        "            print(\"You already guessed that letter.\")\n",
        "            continue\n",
        "\n",
        "        guessed_letters.append(guess)\n",
        "\n",
        "        if guess not in word:\n",
        "            attempts -= 1\n",
        "            print(\"Incorrect guess!\")\n",
        "\n",
        "        # ASCII art for hangman\n",
        "        if attempts == 5:\n",
        "            print(\"   __\")\n",
        "            print(\"  |    |\")\n",
        "            print(\"  |    O\")\n",
        "        elif attempts == 4:\n",
        "            print(\"   __\")\n",
        "            print(\"  |    |\")\n",
        "            print(\"  |    O\")\n",
        "            print(\"  |    |\")\n",
        "        elif attempts == 3:\n",
        "            print(\"   __\")\n",
        "            print(\"  |    |\")\n",
        "            print(\"  |    O\")\n",
        "            print(\"  |   /|\")\n",
        "        elif attempts == 2:\n",
        "            print(\"   __\")\n",
        "            print(\"  |    |\")\n",
        "            print(\"  |    O\")\n",
        "            print(\"  |   /|\\\\\")\n",
        "        elif attempts == 1:\n",
        "            print(\"   __\")\n",
        "            print(\"  |    |\")\n",
        "            print(\"  |    O\")\n",
        "            print(\"  |   /|\\\\\")\n",
        "            print(\"  |   / \")\n",
        "        elif attempts == 0:\n",
        "            print(\"   __\")\n",
        "            print(\"  |    |\")\n",
        "            print(\"  |    O\")\n",
        "            print(\"  |   /|\\\\\")\n",
        "            print(\"  |   / \\\\\")\n",
        "\n",
        "if _name_ == \"__main__\":\n",
        "    print(\"Welcome to Hangman!\")\n",
        "    hangman()"
      ],
      "metadata": {
        "id": "r6dk6oznNGs7"
      },
      "execution_count": null,
      "outputs": []
    },
    {
      "cell_type": "markdown",
      "source": [
        "Number Guessing Game"
      ],
      "metadata": {
        "id": "m8gIrg4-M8O2"
      }
    },
    {
      "cell_type": "code",
      "source": [
        "import random\n",
        "\n",
        "def number_guessing_game():\n",
        "    target_number = random.randint(1, 100)\n",
        "    attempts = 0\n",
        "    user_guesses = []\n",
        "\n",
        "    print(\"Welcome to the Number Guessing Game!\")\n",
        "\n",
        "    while True:\n",
        "        user_input = input(\"Guess the number (1-100): \")\n",
        "\n",
        "        if not user_input.isdigit():\n",
        "            print(\"Please enter a valid number.\")\n",
        "            continue\n",
        "\n",
        "        user_guess = int(user_input)\n",
        "        attempts += 1\n",
        "        user_guesses.append(user_guess)\n",
        "\n",
        "        if user_guess < target_number:\n",
        "            print(\"Too low! Try again.\")\n",
        "        elif user_guess > target_number:\n",
        "            print(\"Too high! Try again.\")\n",
        "        else:\n",
        "            print(f\"Congratulations! You guessed the number {target_number} in {attempts} attempts.\")\n",
        "            print(\"Your guess history:\", user_guesses)\n",
        "            break\n",
        "\n",
        "if _name_ == \"__main__\":\n",
        "    number_guessing_game()"
      ],
      "metadata": {
        "id": "dJoH7jKRNMyJ"
      },
      "execution_count": null,
      "outputs": []
    }
  ]
}